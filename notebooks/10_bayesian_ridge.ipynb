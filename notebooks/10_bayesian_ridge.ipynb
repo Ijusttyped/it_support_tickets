{
 "cells": [
  {
   "cell_type": "code",
   "execution_count": 1,
   "metadata": {},
   "outputs": [],
   "source": [
    "from pathlib import Path\n",
    "import pandas as pd\n",
    "import matplotlib.pyplot as plt\n",
    "from functools import reduce\n",
    "import sys\n",
    "import os\n",
    "module_path = Path(\"../src/\")\n",
    "os.chdir(module_path)\n",
    "sys.path.append(module_path)\n",
    "import warnings\n",
    "warnings.filterwarnings(\"ignore\")\n",
    "from data_access.load_file import load_table\n",
    "from data_processing.functions import time_for_phase\n",
    "from data_preparation import compute_work_item_times\n",
    "from data_processing import features\n",
    "from modeling.evaluation import train_test_predictions, plot_train_test\n",
    "from evaluate import rmsle"
   ]
  },
  {
   "cell_type": "code",
   "execution_count": 2,
   "metadata": {},
   "outputs": [],
   "source": [
    "from sklearn.model_selection import train_test_split\n",
    "from sklearn.linear_model import BayesianRidge"
   ]
  },
  {
   "cell_type": "markdown",
   "metadata": {},
   "source": [
    "First we load the data and features."
   ]
  },
  {
   "cell_type": "code",
   "execution_count": 3,
   "metadata": {},
   "outputs": [],
   "source": [
    "filename = Path(\"../data/gdsc2_public.csv\")\n",
    "data = load_table(filename)\n",
    "times = time_for_phase(data)\n",
    "total_times = compute_work_item_times(data)\n",
    "work_times = features.work_times(times, time_col=\"duration_in_days\")\n",
    "work_frequency = features.work_times(times)\n",
    "process_length = features.process_length(times)\n",
    "is_open = features.is_open(data)"
   ]
  },
  {
   "cell_type": "markdown",
   "metadata": {},
   "source": [
    "Now we load the outlier predicition from notebook 6_outlier_prediction"
   ]
  },
  {
   "cell_type": "code",
   "execution_count": 4,
   "metadata": {},
   "outputs": [],
   "source": [
    "filename = Path(\"../data/outlier_prediction.csv\")\n",
    "outliers = pd.read_csv(filename)\n",
    "outliers.rename(columns={\"predictions\": \"outlier_pred\"}, inplace=True)"
   ]
  },
  {
   "cell_type": "markdown",
   "metadata": {},
   "source": [
    "Now we load the predicted process frequencies of the open work tickets from notebook 9_path_learning"
   ]
  },
  {
   "cell_type": "code",
   "execution_count": 5,
   "metadata": {},
   "outputs": [],
   "source": [
    "filename = Path(\"../data/path_learning.csv\")\n",
    "open_frequency = pd.read_csv(filename)"
   ]
  },
  {
   "cell_type": "markdown",
   "metadata": {},
   "source": [
    "We want to \"merge\" the predicted path frequency with the already existing frequency by chosing the maximum value"
   ]
  },
  {
   "cell_type": "code",
   "execution_count": 6,
   "metadata": {},
   "outputs": [],
   "source": [
    "open_wis = is_open[is_open[\"is_open\"]==1][\"work_item\"].values\n",
    "newfreq = pd.merge(work_frequency[work_frequency.work_item.isin(open_wis)], open_frequency, on=\"work_item\")\n",
    "freq_cols = ['Accept_freq', 'Analyze_freq', 'Build_freq', 'Clarify_freq', 'Deploy_freq', 'Design_freq', 'End_freq', 'Package_freq', 'Test_freq']\n",
    "for x, y in newfreq.iterrows():\n",
    "    for col in freq_cols:\n",
    "        if y[col+\"_x\"] > y[col+\"_y\"]:\n",
    "            newfreq.loc[x, col] = y[col+\"_x\"]\n",
    "        else:\n",
    "            if y[col+\"_y\"] > 0:\n",
    "                newfreq.loc[x, col] = y[col+\"_y\"]\n",
    "            else:\n",
    "                newfreq.loc[x, col] = 0"
   ]
  },
  {
   "cell_type": "code",
   "execution_count": 7,
   "metadata": {},
   "outputs": [],
   "source": [
    "work_frequency = pd.concat([work_frequency[~work_frequency[\"work_item\"].isin(open_wis)], newfreq[[\"work_item\", *freq_cols]]])"
   ]
  },
  {
   "cell_type": "markdown",
   "metadata": {},
   "source": [
    "After that we can merge everything together"
   ]
  },
  {
   "cell_type": "code",
   "execution_count": 34,
   "metadata": {},
   "outputs": [],
   "source": [
    "final = reduce(lambda x, y: pd.merge(x, y, on=\"work_item\", how=\"inner\"),\n",
    "               [work_times, work_frequency, process_length, is_open, outliers, total_times[[\"work_item\", \"duration_in_days\"]]])"
   ]
  },
  {
   "cell_type": "markdown",
   "metadata": {},
   "source": [
    "Now we add the other given features like domain, work_priority, work_type, ..."
   ]
  },
  {
   "cell_type": "code",
   "execution_count": 35,
   "metadata": {},
   "outputs": [
    {
     "data": {
      "text/html": [
       "<div>\n",
       "<style scoped>\n",
       "    .dataframe tbody tr th:only-of-type {\n",
       "        vertical-align: middle;\n",
       "    }\n",
       "\n",
       "    .dataframe tbody tr th {\n",
       "        vertical-align: top;\n",
       "    }\n",
       "\n",
       "    .dataframe thead th {\n",
       "        text-align: right;\n",
       "    }\n",
       "</style>\n",
       "<table border=\"1\" class=\"dataframe\">\n",
       "  <thead>\n",
       "    <tr style=\"text-align: right;\">\n",
       "      <th></th>\n",
       "      <th>Accept</th>\n",
       "      <th>Analyze</th>\n",
       "      <th>Build</th>\n",
       "      <th>Clarify</th>\n",
       "      <th>Deploy</th>\n",
       "      <th>Design</th>\n",
       "      <th>End</th>\n",
       "      <th>Package</th>\n",
       "      <th>Test</th>\n",
       "      <th>Accept_freq</th>\n",
       "      <th>...</th>\n",
       "      <th>platform_PL_00010</th>\n",
       "      <th>platform_PL_00011</th>\n",
       "      <th>platform_PL_00012</th>\n",
       "      <th>platform_PL_00013</th>\n",
       "      <th>platform_PL_00014</th>\n",
       "      <th>platform_PL_00015</th>\n",
       "      <th>platform_PL_00016</th>\n",
       "      <th>platform_PL_00017</th>\n",
       "      <th>platform_PL_00018</th>\n",
       "      <th>platform_PL_00019</th>\n",
       "    </tr>\n",
       "    <tr>\n",
       "      <th>work_item</th>\n",
       "      <th></th>\n",
       "      <th></th>\n",
       "      <th></th>\n",
       "      <th></th>\n",
       "      <th></th>\n",
       "      <th></th>\n",
       "      <th></th>\n",
       "      <th></th>\n",
       "      <th></th>\n",
       "      <th></th>\n",
       "      <th></th>\n",
       "      <th></th>\n",
       "      <th></th>\n",
       "      <th></th>\n",
       "      <th></th>\n",
       "      <th></th>\n",
       "      <th></th>\n",
       "      <th></th>\n",
       "      <th></th>\n",
       "      <th></th>\n",
       "      <th></th>\n",
       "    </tr>\n",
       "  </thead>\n",
       "  <tbody>\n",
       "    <tr>\n",
       "      <th>WI_000001</th>\n",
       "      <td>1.10</td>\n",
       "      <td>4.82</td>\n",
       "      <td>5.83</td>\n",
       "      <td>0.0</td>\n",
       "      <td>7.02</td>\n",
       "      <td>0.17</td>\n",
       "      <td>0.0</td>\n",
       "      <td>3.91</td>\n",
       "      <td>2.03</td>\n",
       "      <td>1.0</td>\n",
       "      <td>...</td>\n",
       "      <td>0</td>\n",
       "      <td>0</td>\n",
       "      <td>0</td>\n",
       "      <td>0</td>\n",
       "      <td>0</td>\n",
       "      <td>0</td>\n",
       "      <td>0</td>\n",
       "      <td>0</td>\n",
       "      <td>0</td>\n",
       "      <td>0</td>\n",
       "    </tr>\n",
       "    <tr>\n",
       "      <th>WI_000002</th>\n",
       "      <td>0.00</td>\n",
       "      <td>11.78</td>\n",
       "      <td>0.00</td>\n",
       "      <td>0.0</td>\n",
       "      <td>0.00</td>\n",
       "      <td>0.00</td>\n",
       "      <td>0.0</td>\n",
       "      <td>0.00</td>\n",
       "      <td>0.00</td>\n",
       "      <td>0.0</td>\n",
       "      <td>...</td>\n",
       "      <td>0</td>\n",
       "      <td>0</td>\n",
       "      <td>0</td>\n",
       "      <td>0</td>\n",
       "      <td>0</td>\n",
       "      <td>0</td>\n",
       "      <td>0</td>\n",
       "      <td>0</td>\n",
       "      <td>0</td>\n",
       "      <td>0</td>\n",
       "    </tr>\n",
       "    <tr>\n",
       "      <th>WI_000003</th>\n",
       "      <td>0.00</td>\n",
       "      <td>44.89</td>\n",
       "      <td>0.00</td>\n",
       "      <td>0.0</td>\n",
       "      <td>0.00</td>\n",
       "      <td>6.88</td>\n",
       "      <td>0.0</td>\n",
       "      <td>0.00</td>\n",
       "      <td>3.08</td>\n",
       "      <td>0.0</td>\n",
       "      <td>...</td>\n",
       "      <td>0</td>\n",
       "      <td>0</td>\n",
       "      <td>0</td>\n",
       "      <td>0</td>\n",
       "      <td>0</td>\n",
       "      <td>0</td>\n",
       "      <td>0</td>\n",
       "      <td>0</td>\n",
       "      <td>0</td>\n",
       "      <td>0</td>\n",
       "    </tr>\n",
       "    <tr>\n",
       "      <th>WI_000004</th>\n",
       "      <td>2.05</td>\n",
       "      <td>11.80</td>\n",
       "      <td>0.00</td>\n",
       "      <td>0.0</td>\n",
       "      <td>11.89</td>\n",
       "      <td>0.00</td>\n",
       "      <td>0.0</td>\n",
       "      <td>0.00</td>\n",
       "      <td>0.00</td>\n",
       "      <td>1.0</td>\n",
       "      <td>...</td>\n",
       "      <td>0</td>\n",
       "      <td>0</td>\n",
       "      <td>0</td>\n",
       "      <td>0</td>\n",
       "      <td>0</td>\n",
       "      <td>0</td>\n",
       "      <td>0</td>\n",
       "      <td>0</td>\n",
       "      <td>0</td>\n",
       "      <td>0</td>\n",
       "    </tr>\n",
       "    <tr>\n",
       "      <th>WI_000005</th>\n",
       "      <td>0.05</td>\n",
       "      <td>25.69</td>\n",
       "      <td>0.98</td>\n",
       "      <td>0.0</td>\n",
       "      <td>6.10</td>\n",
       "      <td>0.03</td>\n",
       "      <td>0.0</td>\n",
       "      <td>0.00</td>\n",
       "      <td>0.00</td>\n",
       "      <td>1.0</td>\n",
       "      <td>...</td>\n",
       "      <td>0</td>\n",
       "      <td>0</td>\n",
       "      <td>0</td>\n",
       "      <td>0</td>\n",
       "      <td>0</td>\n",
       "      <td>0</td>\n",
       "      <td>0</td>\n",
       "      <td>0</td>\n",
       "      <td>0</td>\n",
       "      <td>0</td>\n",
       "    </tr>\n",
       "  </tbody>\n",
       "</table>\n",
       "<p>5 rows × 60 columns</p>\n",
       "</div>"
      ],
      "text/plain": [
       "           Accept  Analyze  Build  Clarify  Deploy  Design  End  Package  \\\n",
       "work_item                                                                  \n",
       "WI_000001    1.10     4.82   5.83      0.0    7.02    0.17  0.0     3.91   \n",
       "WI_000002    0.00    11.78   0.00      0.0    0.00    0.00  0.0     0.00   \n",
       "WI_000003    0.00    44.89   0.00      0.0    0.00    6.88  0.0     0.00   \n",
       "WI_000004    2.05    11.80   0.00      0.0   11.89    0.00  0.0     0.00   \n",
       "WI_000005    0.05    25.69   0.98      0.0    6.10    0.03  0.0     0.00   \n",
       "\n",
       "           Test  Accept_freq  ...  platform_PL_00010  platform_PL_00011  \\\n",
       "work_item                     ...                                         \n",
       "WI_000001  2.03          1.0  ...                  0                  0   \n",
       "WI_000002  0.00          0.0  ...                  0                  0   \n",
       "WI_000003  3.08          0.0  ...                  0                  0   \n",
       "WI_000004  0.00          1.0  ...                  0                  0   \n",
       "WI_000005  0.00          1.0  ...                  0                  0   \n",
       "\n",
       "           platform_PL_00012  platform_PL_00013  platform_PL_00014  \\\n",
       "work_item                                                            \n",
       "WI_000001                  0                  0                  0   \n",
       "WI_000002                  0                  0                  0   \n",
       "WI_000003                  0                  0                  0   \n",
       "WI_000004                  0                  0                  0   \n",
       "WI_000005                  0                  0                  0   \n",
       "\n",
       "           platform_PL_00015  platform_PL_00016  platform_PL_00017  \\\n",
       "work_item                                                            \n",
       "WI_000001                  0                  0                  0   \n",
       "WI_000002                  0                  0                  0   \n",
       "WI_000003                  0                  0                  0   \n",
       "WI_000004                  0                  0                  0   \n",
       "WI_000005                  0                  0                  0   \n",
       "\n",
       "           platform_PL_00018  platform_PL_00019  \n",
       "work_item                                        \n",
       "WI_000001                  0                  0  \n",
       "WI_000002                  0                  0  \n",
       "WI_000003                  0                  0  \n",
       "WI_000004                  0                  0  \n",
       "WI_000005                  0                  0  \n",
       "\n",
       "[5 rows x 60 columns]"
      ]
     },
     "execution_count": 35,
     "metadata": {},
     "output_type": "execute_result"
    }
   ],
   "source": [
    "final.drop_duplicates(\"work_item\", inplace=True)\n",
    "final.set_index(\"work_item\", inplace=True)\n",
    "cols_to_encode = [\"domain\", \"work_priority\", \"work_type\", \"platform\"]\n",
    "encode = data[[\"work_item\", *cols_to_encode]].drop_duplicates(\"work_item\")\n",
    "encoded = pd.get_dummies(encode, columns=cols_to_encode)\n",
    "final = pd.merge(final, encoded, left_index=True, right_on=\"work_item\").set_index(\"work_item\")\n",
    "final.head()"
   ]
  },
  {
   "cell_type": "markdown",
   "metadata": {},
   "source": [
    "Looks fine, now we are going to split into train and test dataset"
   ]
  },
  {
   "cell_type": "code",
   "execution_count": 36,
   "metadata": {},
   "outputs": [
    {
     "name": "stdout",
     "output_type": "stream",
     "text": [
      "We have 1042 open work_items and 10522 closed work_items\n"
     ]
    }
   ],
   "source": [
    "is_open = final[\"is_open\"]==1\n",
    "times_open = final[is_open]\n",
    "times_closed = final[~is_open]\n",
    "print(\"We have %i open work_items and %i closed work_items\"%(len(times_open), len(times_closed)))"
   ]
  },
  {
   "cell_type": "code",
   "execution_count": 37,
   "metadata": {},
   "outputs": [],
   "source": [
    "x_data = times_closed[list(set(times_closed.columns) - set([\"duration_in_days\", \"has_end\"]))]\n",
    "y_data = pd.DataFrame(times_closed[\"duration_in_days\"])\n",
    "x_train, x_test, y_train, y_test = train_test_split(x_data, y_data, test_size=0.3, random_state=42)"
   ]
  },
  {
   "cell_type": "code",
   "execution_count": 38,
   "metadata": {},
   "outputs": [
    {
     "name": "stdout",
     "output_type": "stream",
     "text": [
      "Train data shape = (7365, 59)\n",
      "Test data shape = (3157, 59)\n"
     ]
    }
   ],
   "source": [
    "print(\"Train data shape = {}\".format(x_train.shape))\n",
    "print(\"Test data shape = {}\".format(x_test.shape))"
   ]
  },
  {
   "cell_type": "markdown",
   "metadata": {},
   "source": [
    "Let's initialize the model and fit the data into it"
   ]
  },
  {
   "cell_type": "code",
   "execution_count": 39,
   "metadata": {},
   "outputs": [],
   "source": [
    "bay = BayesianRidge(n_iter=500)\n",
    "fit = bay.fit(x_train, y_train)"
   ]
  },
  {
   "cell_type": "markdown",
   "metadata": {},
   "source": [
    "We want to take a look at the importances of the features"
   ]
  },
  {
   "cell_type": "code",
   "execution_count": 40,
   "metadata": {},
   "outputs": [
    {
     "data": {
      "text/plain": [
       "[('Deploy', 1.0000036180800023),\n",
       " ('Test', 0.9999984489981),\n",
       " ('Build', 0.9999979983674727),\n",
       " ('Analyze', 0.999997676465606),\n",
       " ('Design', 0.999996655478341),\n",
       " ('Accept', 0.9999948908345531),\n",
       " ('Package', 0.9999759723713125),\n",
       " ('Clarify', 0.9916934883221984),\n",
       " ('Clarify_freq', 0.08990525221452117),\n",
       " ('process_length', 0.01134936511516571),\n",
       " ('platform_PL_00014', 0.001091228798031807),\n",
       " ('domain_BD_00008', 0.0009397659450769424),\n",
       " ('platform_PL_00015', 0.0006126072257757187),\n",
       " ('outlier_pred', 0.0005421401320546693),\n",
       " ('domain_BD_00001', 0.00038058124482631683),\n",
       " ('platform_PL_00001', 0.0003739111125469208),\n",
       " ('platform_PL_00004', 0.0003022262826561928),\n",
       " ('platform_PL_00012', 0.0002327989786863327),\n",
       " ('work_type_WT_00002', 0.000223502516746521),\n",
       " ('work_priority_WP_00004', 0.00018674135208129883),\n",
       " ('work_priority_WP_00002', 0.00016874819993972778),\n",
       " ('work_priority_WP_00001', 5.718320608139038e-05),\n",
       " ('platform_PL_00009', 2.4121254682540894e-05),\n",
       " ('platform_PL_00010', 1.0661780834197998e-05),\n",
       " ('work_type_WT_00001', 1.0244548320770264e-05),\n",
       " ('End', -2.3425754947501744e-21),\n",
       " ('is_open', -1.2860857784660542e-06),\n",
       " ('End_freq', -2.0434546649570853e-06),\n",
       " ('domain_BD_00004', -3.9711594581604e-06),\n",
       " ('domain_BD_00005', -6.3478946685791016e-06),\n",
       " ('platform_PL_00005', -1.8581748008728027e-05),\n",
       " ('platform_PL_00002', -2.6636524125933647e-05),\n",
       " ('domain_BD_00002', -3.014272078871727e-05),\n",
       " ('domain_BD_00009', -3.544706851243973e-05),\n",
       " ('work_priority_WP_00003', -6.141886115074158e-05),\n",
       " ('domain_BD_00007', -0.0001393742859363556),\n",
       " ('platform_PL_00017', -0.00014806806575506926),\n",
       " ('platform_PL_00008', -0.0001516006886959076),\n",
       " ('platform_PL_00003', -0.00015813857316970825),\n",
       " ('platform_PL_00013', -0.0001767938956618309),\n",
       " ('platform_PL_00018', -0.00020516582299023867),\n",
       " ('domain_BD_00010', -0.00021332316100597382),\n",
       " ('platform_PL_00016', -0.00021610967814922333),\n",
       " ('domain_BD_00006', -0.00021993741393089294),\n",
       " ('platform_PL_00006', -0.00023085996508598328),\n",
       " ('work_type_WT_00003', -0.0002481192350387573),\n",
       " ('domain_BD_00003', -0.0002995245158672333),\n",
       " ('platform_PL_00011', -0.00030353106558322906),\n",
       " ('domain_BD_00011', -0.0003482578322291374),\n",
       " ('work_priority_WP_00005', -0.00034920498728752136),\n",
       " ('platform_PL_00007', -0.00036983564496040344),\n",
       " ('platform_PL_00019', -0.0006418516859412193),\n",
       " ('Design_freq', -0.01070229709148407),\n",
       " ('Package_freq', -0.011015176773071289),\n",
       " ('Deploy_freq', -0.011088386178016663),\n",
       " ('Test_freq', -0.01125083863735199),\n",
       " ('Build_freq', -0.011290103197097778),\n",
       " ('Accept_freq', -0.011539146304130554),\n",
       " ('Analyze_freq', -0.011677533388137817)]"
      ]
     },
     "execution_count": 40,
     "metadata": {},
     "output_type": "execute_result"
    }
   ],
   "source": [
    "sorted(list(zip(x_train.columns, fit.coef_)), key=(lambda x: x[1]), reverse=True)"
   ]
  },
  {
   "cell_type": "markdown",
   "metadata": {},
   "source": [
    "We can see that the phases are featured as 1 which is logical because their values are the time so we should also get perfect predictions for training and test set. Validation set could be super bad."
   ]
  },
  {
   "cell_type": "code",
   "execution_count": 43,
   "metadata": {},
   "outputs": [
    {
     "data": {
      "image/png": "[encoded data removed]",
      "text/plain": [
       "<Figure size 1080x360 with 2 Axes>"
      ]
     },
     "metadata": {
      "needs_background": "light"
     },
     "output_type": "display_data"
    }
   ],
   "source": [
    "train_predictions, test_predictions = train_test_predictions(x_train, x_test, fit, val=None)\n",
    "plot_train_test(train_predictions, y_train, test_predictions, y_test, col=\"duration_in_days\")"
   ]
  },
  {
   "cell_type": "code",
   "execution_count": 44,
   "metadata": {},
   "outputs": [
    {
     "name": "stdout",
     "output_type": "stream",
     "text": [
      "Train error is 0.001502\n",
      "Test error is 0.001536\n"
     ]
    }
   ],
   "source": [
    "train_rmsle = rmsle(y_train.reset_index(), train_predictions)\n",
    "test_rmsle = rmsle(y_test.reset_index(), test_predictions)\n",
    "print(\"Train error is %f\" %train_rmsle)\n",
    "print(\"Test error is %f\" %test_rmsle)"
   ]
  },
  {
   "cell_type": "markdown",
   "metadata": {},
   "source": [
    "Model and Error is low as well. But the other features are have an impact to. So we compare out predictions with the time they already took."
   ]
  },
  {
   "cell_type": "code",
   "execution_count": 45,
   "metadata": {},
   "outputs": [],
   "source": [
    "predict_df = times_open[list(set(times_open.columns) - set([\"duration_in_days\", \"has_end\"]))]\n",
    "submit_predictions = pd.DataFrame(predict_df.index)\n",
    "submit_predictions[\"predictions\"] = fit.predict(predict_df)"
   ]
  },
  {
   "cell_type": "code",
   "execution_count": 46,
   "metadata": {},
   "outputs": [
    {
     "data": {
      "text/plain": [
       "<matplotlib.axes._subplots.AxesSubplot at 0xcacdb38>"
      ]
     },
     "execution_count": 46,
     "metadata": {},
     "output_type": "execute_result"
    },
    {
     "data": {
      "image/png": "[encoded data removed]",
      "text/plain": [
       "<Figure size 864x576 with 1 Axes>"
      ]
     },
     "metadata": {
      "needs_background": "light"
     },
     "output_type": "display_data"
    }
   ],
   "source": [
    "wt_plot = work_times.copy()\n",
    "wt_plot[\"duration_in_days\"] = wt_plot.sum(axis=1)\n",
    "mer = pd.merge(submit_predictions, wt_plot[[\"work_item\", \"duration_in_days\"]], on=\"work_item\")\n",
    "mer.plot(figsize=(12,8))"
   ]
  },
  {
   "cell_type": "code",
   "execution_count": null,
   "metadata": {},
   "outputs": [],
   "source": []
  }
 ],
 "metadata": {
  "kernelspec": {
   "display_name": "Python 3",
   "language": "python",
   "name": "python3"
  },
  "language_info": {
   "codemirror_mode": {
    "name": "ipython",
    "version": 3
   },
   "file_extension": ".py",
   "mimetype": "text/x-python",
   "name": "python",
   "nbconvert_exporter": "python",
   "pygments_lexer": "ipython3",
   "version": "3.7.1"
  }
 },
 "nbformat": 4,
 "nbformat_minor": 2
}
