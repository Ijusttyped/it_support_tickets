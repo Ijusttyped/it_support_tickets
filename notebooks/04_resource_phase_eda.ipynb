{
 "cells": [
  {
   "cell_type": "code",
   "execution_count": 1,
   "metadata": {},
   "outputs": [],
   "source": [
    "from pathlib import Path\n",
    "import pandas as pd\n",
    "import numpy as np\n",
    "import sys\n",
    "import os\n",
    "from collections import defaultdict, OrderedDict\n",
    "import json\n",
    "module_path = Path(\"../src/\")\n",
    "os.chdir(module_path)\n",
    "sys.path.append(module_path)\n",
    "import matplotlib.pyplot as plt"
   ]
  },
  {
   "cell_type": "code",
   "execution_count": 2,
   "metadata": {},
   "outputs": [],
   "source": [
    "from data_access.load_file import *\n",
    "from data_processing.functions import *\n",
    "from data_processing.processmining import *\n",
    "from vizualizations import *"
   ]
  },
  {
   "cell_type": "code",
   "execution_count": 3,
   "metadata": {},
   "outputs": [],
   "source": [
    "\"\"\"\n",
    "To ignore the pandas SettingWithCopyWarning in cell 5 function time_for_phase\n",
    "If you have the solution to optimize the function please contact :)\n",
    "\"\"\"\n",
    "import warnings\n",
    "warnings.filterwarnings('ignore')"
   ]
  },
  {
   "cell_type": "code",
   "execution_count": 4,
   "metadata": {},
   "outputs": [],
   "source": [
    "filename = Path(\"../data/gdsc2_public.csv\")\n",
    "data = load_table(filename)\n",
    "data.sort_values(by='timestamp', inplace=True)\n",
    "data[\"from_resource\"].fillna(\"0\", inplace=True)\n",
    "data[\"to_resource\"].fillna(\"0\", inplace=True)\n",
    "data = add_phase(data, col_name=\"process_phase\", cols=[\"from_phase\", \"to_phase\"], as_str=False)\n",
    "data = add_phase(data, col_name=\"resource_phase\", cols=[\"from_resource\", \"to_resource\"], as_str=False)"
   ]
  },
  {
   "cell_type": "markdown",
   "metadata": {},
   "source": [
    "Let's get into resource Phases! First restrict on closed items"
   ]
  },
  {
   "cell_type": "code",
   "execution_count": 5,
   "metadata": {},
   "outputs": [],
   "source": [
    "isclosed = data[data[\"to_phase\"]==\"End\"][\"work_item\"].unique()"
   ]
  },
  {
   "cell_type": "code",
   "execution_count": 6,
   "metadata": {},
   "outputs": [],
   "source": [
    "closed = data[data[\"work_item\"].isin(isclosed)]"
   ]
  },
  {
   "cell_type": "code",
   "execution_count": 7,
   "metadata": {},
   "outputs": [
    {
     "data": {
      "text/plain": [
       "Start    10522\n",
       "Name: from_phase, dtype: int64"
      ]
     },
     "execution_count": 7,
     "metadata": {},
     "output_type": "execute_result"
    }
   ],
   "source": [
    "closed[closed[\"from_resource\"]==\"0\"][\"from_phase\"].value_counts()"
   ]
  },
  {
   "cell_type": "code",
   "execution_count": 8,
   "metadata": {},
   "outputs": [
    {
     "data": {
      "text/plain": [
       "0    10522\n",
       "Name: from_resource, dtype: int64"
      ]
     },
     "execution_count": 8,
     "metadata": {},
     "output_type": "execute_result"
    }
   ],
   "source": [
    "closed[closed[\"from_phase\"]==\"Start\"][\"from_resource\"].value_counts(dropna=False)"
   ]
  },
  {
   "cell_type": "markdown",
   "metadata": {},
   "source": [
    "Everery Resource start from NaN."
   ]
  },
  {
   "cell_type": "code",
   "execution_count": 9,
   "metadata": {},
   "outputs": [
    {
     "name": "stdout",
     "output_type": "stream",
     "text": [
      "There are 270 different resource states and 2371 different resource phases\n"
     ]
    }
   ],
   "source": [
    "print(\"There are %i different resource states and %i different resource phases\" %(closed[\"to_resource\"].nunique(), closed[\"resource_phase\"].nunique()))"
   ]
  },
  {
   "cell_type": "markdown",
   "metadata": {},
   "source": [
    "Count the different paths a resource can go"
   ]
  },
  {
   "cell_type": "code",
   "execution_count": 10,
   "metadata": {},
   "outputs": [],
   "source": [
    "procfreq = count_processes(closed, \"resource_phase\")\n",
    "processes = dict_to_df(procfreq).T\n",
    "processes.sort_values(by=\"freq\", ascending=False, inplace=True)\n",
    "processes.reset_index(drop=True, inplace=True)"
   ]
  },
  {
   "cell_type": "code",
   "execution_count": 11,
   "metadata": {},
   "outputs": [],
   "source": [
    "save_path = Path(\"../plots/\")"
   ]
  },
  {
   "cell_type": "code",
   "execution_count": 12,
   "metadata": {},
   "outputs": [],
   "source": [
    "g1 = plot_process(process=processes[\"process\"][0].values(), name=\"Resource_top_Frequency\", path=save_path)\n",
    "g2 = plot_process(process=processes[\"process\"][1].values(), name=\"Resource_second_Frequency\", path=save_path)\n",
    "g3 = plot_process(process=processes[\"process\"][2].values(), name=\"Resource_third_Frequency\", path=save_path)"
   ]
  },
  {
   "cell_type": "code",
   "execution_count": 13,
   "metadata": {},
   "outputs": [
    {
     "data": {
      "image/svg+xml": [
       "<?xml version=\"1.0\" encoding=\"UTF-8\" standalone=\"no\"?>\r\n",
       "<!DOCTYPE svg PUBLIC \"-//W3C//DTD SVG 1.1//EN\"\r\n",
       " \"http://www.w3.org/Graphics/SVG/1.1/DTD/svg11.dtd\">\r\n",
       "<!-- Generated by graphviz version 2.38.0 (20140413.2041)\r\n",
       " -->\r\n",
       "<!-- Title: Resource_top_Frequency Pages: 1 -->\r\n",
       "<svg width=\"171pt\" height=\"283pt\"\r\n",
       " viewBox=\"0.00 0.00 171.00 283.00\" xmlns=\"http://www.w3.org/2000/svg\" xmlns:xlink=\"http://www.w3.org/1999/xlink\">\r\n",
       "<g id=\"graph0\" class=\"graph\" transform=\"scale(1 1) rotate(0) translate(4 279)\">\r\n",
       "<title>Resource_top_Frequency</title>\r\n",
       "<polygon fill=\"white\" stroke=\"none\" points=\"-4,4 -4,-279 167,-279 167,4 -4,4\"/>\r\n",
       "<text text-anchor=\"middle\" x=\"81.5\" y=\"-7.8\" font-family=\"Times New Roman,serif\" font-size=\"14.00\">Resource_top_Frequency</text>\r\n",
       "<!-- 0 -->\r\n",
       "<g id=\"node1\" class=\"node\"><title>0</title>\r\n",
       "<ellipse fill=\"none\" stroke=\"black\" cx=\"91.5\" cy=\"-257\" rx=\"27\" ry=\"18\"/>\r\n",
       "<text text-anchor=\"middle\" x=\"91.5\" y=\"-253.3\" font-family=\"Times New Roman,serif\" font-size=\"14.00\">0</text>\r\n",
       "</g>\r\n",
       "<!-- ER_00206 -->\r\n",
       "<g id=\"node2\" class=\"node\"><title>ER_00206</title>\r\n",
       "<ellipse fill=\"none\" stroke=\"black\" cx=\"91.5\" cy=\"-185\" rx=\"49.2915\" ry=\"18\"/>\r\n",
       "<text text-anchor=\"middle\" x=\"91.5\" y=\"-181.3\" font-family=\"Times New Roman,serif\" font-size=\"14.00\">ER_00206</text>\r\n",
       "</g>\r\n",
       "<!-- 0&#45;&gt;ER_00206 -->\r\n",
       "<g id=\"edge1\" class=\"edge\"><title>0&#45;&gt;ER_00206</title>\r\n",
       "<path fill=\"none\" stroke=\"black\" d=\"M85.6601,-239.411C84.7975,-231.507 84.5481,-221.852 84.9119,-212.935\"/>\r\n",
       "<polygon fill=\"black\" stroke=\"black\" points=\"88.4033,-213.179 85.6206,-202.956 81.4209,-212.683 88.4033,-213.179\"/>\r\n",
       "</g>\r\n",
       "<!-- ER_00206&#45;&gt;0 -->\r\n",
       "<g id=\"edge6\" class=\"edge\"><title>ER_00206&#45;&gt;0</title>\r\n",
       "<path fill=\"none\" stroke=\"black\" d=\"M97.3794,-202.956C98.2139,-210.827 98.4485,-220.374 98.0831,-229.187\"/>\r\n",
       "<polygon fill=\"black\" stroke=\"black\" points=\"94.5742,-229.184 97.3399,-239.411 101.556,-229.691 94.5742,-229.184\"/>\r\n",
       "</g>\r\n",
       "<!-- ER_00287 -->\r\n",
       "<g id=\"node3\" class=\"node\"><title>ER_00287</title>\r\n",
       "<ellipse fill=\"none\" stroke=\"black\" cx=\"53.5\" cy=\"-113\" rx=\"49.2915\" ry=\"18\"/>\r\n",
       "<text text-anchor=\"middle\" x=\"53.5\" y=\"-109.3\" font-family=\"Times New Roman,serif\" font-size=\"14.00\">ER_00287</text>\r\n",
       "</g>\r\n",
       "<!-- ER_00206&#45;&gt;ER_00287 -->\r\n",
       "<g id=\"edge2\" class=\"edge\"><title>ER_00206&#45;&gt;ER_00287</title>\r\n",
       "<path fill=\"none\" stroke=\"black\" d=\"M82.3013,-167.055C77.867,-158.887 72.452,-148.912 67.519,-139.824\"/>\r\n",
       "<polygon fill=\"black\" stroke=\"black\" points=\"70.461,-137.908 62.614,-130.789 64.309,-141.247 70.461,-137.908\"/>\r\n",
       "</g>\r\n",
       "<!-- ER_00075 -->\r\n",
       "<g id=\"node4\" class=\"node\"><title>ER_00075</title>\r\n",
       "<ellipse fill=\"none\" stroke=\"black\" cx=\"91.5\" cy=\"-41\" rx=\"49.2915\" ry=\"18\"/>\r\n",
       "<text text-anchor=\"middle\" x=\"91.5\" y=\"-37.3\" font-family=\"Times New Roman,serif\" font-size=\"14.00\">ER_00075</text>\r\n",
       "</g>\r\n",
       "<!-- ER_00287&#45;&gt;ER_00075 -->\r\n",
       "<g id=\"edge3\" class=\"edge\"><title>ER_00287&#45;&gt;ER_00075</title>\r\n",
       "<path fill=\"none\" stroke=\"black\" d=\"M62.6987,-95.055C67.133,-86.8866 72.548,-76.9116 77.481,-67.8244\"/>\r\n",
       "<polygon fill=\"black\" stroke=\"black\" points=\"80.691,-69.2474 82.386,-58.789 74.539,-65.9077 80.691,-69.2474\"/>\r\n",
       "</g>\r\n",
       "<!-- ER_00075&#45;&gt;ER_00206 -->\r\n",
       "<g id=\"edge5\" class=\"edge\"><title>ER_00075&#45;&gt;ER_00206</title>\r\n",
       "<path fill=\"none\" stroke=\"black\" d=\"M99.8058,-59.2119C104.241,-69.3659 109.241,-82.6159 111.5,-95 114.371,-110.74 114.371,-115.26 111.5,-131 109.894,-139.804 106.903,-149.046 103.714,-157.302\"/>\r\n",
       "<polygon fill=\"black\" stroke=\"black\" points=\"100.379,-156.209 99.8058,-166.788 106.851,-158.875 100.379,-156.209\"/>\r\n",
       "</g>\r\n",
       "<!-- ER_00075&#45;&gt;ER_00075 -->\r\n",
       "<g id=\"edge4\" class=\"edge\"><title>ER_00075&#45;&gt;ER_00075</title>\r\n",
       "<path fill=\"none\" stroke=\"black\" d=\"M125.83,-54.0641C143.264,-55.9719 158.896,-51.6172 158.896,-41 158.896,-32.5394 148.969,-28.0556 136.115,-27.5485\"/>\r\n",
       "<polygon fill=\"black\" stroke=\"black\" points=\"135.691,-24.0619 125.83,-27.9359 135.955,-31.0569 135.691,-24.0619\"/>\r\n",
       "</g>\r\n",
       "</g>\r\n",
       "</svg>\r\n"
      ],
      "text/plain": [
       "<graphviz.dot.Digraph at 0xb8a4080>"
      ]
     },
     "execution_count": 13,
     "metadata": {},
     "output_type": "execute_result"
    }
   ],
   "source": [
    "g1"
   ]
  },
  {
   "cell_type": "code",
   "execution_count": 14,
   "metadata": {},
   "outputs": [
    {
     "data": {
      "image/svg+xml": [
       "<?xml version=\"1.0\" encoding=\"UTF-8\" standalone=\"no\"?>\r\n",
       "<!DOCTYPE svg PUBLIC \"-//W3C//DTD SVG 1.1//EN\"\r\n",
       " \"http://www.w3.org/Graphics/SVG/1.1/DTD/svg11.dtd\">\r\n",
       "<!-- Generated by graphviz version 2.38.0 (20140413.2041)\r\n",
       " -->\r\n",
       "<!-- Title: Resource_second_Frequency Pages: 1 -->\r\n",
       "<svg width=\"193pt\" height=\"139pt\"\r\n",
       " viewBox=\"0.00 0.00 193.00 139.00\" xmlns=\"http://www.w3.org/2000/svg\" xmlns:xlink=\"http://www.w3.org/1999/xlink\">\r\n",
       "<g id=\"graph0\" class=\"graph\" transform=\"scale(1 1) rotate(0) translate(4 135)\">\r\n",
       "<title>Resource_second_Frequency</title>\r\n",
       "<polygon fill=\"white\" stroke=\"none\" points=\"-4,4 -4,-135 189,-135 189,4 -4,4\"/>\r\n",
       "<text text-anchor=\"middle\" x=\"92.5\" y=\"-7.8\" font-family=\"Times New Roman,serif\" font-size=\"14.00\">Resource_second_Frequency</text>\r\n",
       "<!-- 0 -->\r\n",
       "<g id=\"node1\" class=\"node\"><title>0</title>\r\n",
       "<ellipse fill=\"none\" stroke=\"black\" cx=\"92.5\" cy=\"-113\" rx=\"27\" ry=\"18\"/>\r\n",
       "<text text-anchor=\"middle\" x=\"92.5\" y=\"-109.3\" font-family=\"Times New Roman,serif\" font-size=\"14.00\">0</text>\r\n",
       "</g>\r\n",
       "<!-- ER_00061 -->\r\n",
       "<g id=\"node2\" class=\"node\"><title>ER_00061</title>\r\n",
       "<ellipse fill=\"none\" stroke=\"black\" cx=\"92.5\" cy=\"-41\" rx=\"49.2915\" ry=\"18\"/>\r\n",
       "<text text-anchor=\"middle\" x=\"92.5\" y=\"-37.3\" font-family=\"Times New Roman,serif\" font-size=\"14.00\">ER_00061</text>\r\n",
       "</g>\r\n",
       "<!-- 0&#45;&gt;ER_00061 -->\r\n",
       "<g id=\"edge1\" class=\"edge\"><title>0&#45;&gt;ER_00061</title>\r\n",
       "<path fill=\"none\" stroke=\"black\" d=\"M86.6601,-95.411C85.7975,-87.507 85.5481,-77.8518 85.9119,-68.9352\"/>\r\n",
       "<polygon fill=\"black\" stroke=\"black\" points=\"89.4033,-69.1791 86.6206,-58.9562 82.4209,-68.6831 89.4033,-69.1791\"/>\r\n",
       "</g>\r\n",
       "<!-- ER_00061&#45;&gt;0 -->\r\n",
       "<g id=\"edge2\" class=\"edge\"><title>ER_00061&#45;&gt;0</title>\r\n",
       "<path fill=\"none\" stroke=\"black\" d=\"M98.3794,-58.9562C99.2139,-66.8272 99.4485,-76.3739 99.0831,-85.1869\"/>\r\n",
       "<polygon fill=\"black\" stroke=\"black\" points=\"95.5742,-85.1835 98.3399,-95.411 102.556,-85.6911 95.5742,-85.1835\"/>\r\n",
       "</g>\r\n",
       "</g>\r\n",
       "</svg>\r\n"
      ],
      "text/plain": [
       "<graphviz.dot.Digraph at 0xe0a8160>"
      ]
     },
     "execution_count": 14,
     "metadata": {},
     "output_type": "execute_result"
    }
   ],
   "source": [
    "g2"
   ]
  },
  {
   "cell_type": "code",
   "execution_count": 15,
   "metadata": {},
   "outputs": [
    {
     "data": {
      "image/svg+xml": [
       "<?xml version=\"1.0\" encoding=\"UTF-8\" standalone=\"no\"?>\r\n",
       "<!DOCTYPE svg PUBLIC \"-//W3C//DTD SVG 1.1//EN\"\r\n",
       " \"http://www.w3.org/Graphics/SVG/1.1/DTD/svg11.dtd\">\r\n",
       "<!-- Generated by graphviz version 2.38.0 (20140413.2041)\r\n",
       " -->\r\n",
       "<!-- Title: Resource_third_Frequency Pages: 1 -->\r\n",
       "<svg width=\"178pt\" height=\"211pt\"\r\n",
       " viewBox=\"0.00 0.00 178.00 211.00\" xmlns=\"http://www.w3.org/2000/svg\" xmlns:xlink=\"http://www.w3.org/1999/xlink\">\r\n",
       "<g id=\"graph0\" class=\"graph\" transform=\"scale(1 1) rotate(0) translate(4 207)\">\r\n",
       "<title>Resource_third_Frequency</title>\r\n",
       "<polygon fill=\"white\" stroke=\"none\" points=\"-4,4 -4,-207 174,-207 174,4 -4,4\"/>\r\n",
       "<text text-anchor=\"middle\" x=\"85\" y=\"-7.8\" font-family=\"Times New Roman,serif\" font-size=\"14.00\">Resource_third_Frequency</text>\r\n",
       "<!-- 0 -->\r\n",
       "<g id=\"node1\" class=\"node\"><title>0</title>\r\n",
       "<ellipse fill=\"none\" stroke=\"black\" cx=\"67\" cy=\"-185\" rx=\"27\" ry=\"18\"/>\r\n",
       "<text text-anchor=\"middle\" x=\"67\" y=\"-181.3\" font-family=\"Times New Roman,serif\" font-size=\"14.00\">0</text>\r\n",
       "</g>\r\n",
       "<!-- ER_00061 -->\r\n",
       "<g id=\"node2\" class=\"node\"><title>ER_00061</title>\r\n",
       "<ellipse fill=\"none\" stroke=\"black\" cx=\"67\" cy=\"-113\" rx=\"49.2915\" ry=\"18\"/>\r\n",
       "<text text-anchor=\"middle\" x=\"67\" y=\"-109.3\" font-family=\"Times New Roman,serif\" font-size=\"14.00\">ER_00061</text>\r\n",
       "</g>\r\n",
       "<!-- 0&#45;&gt;ER_00061 -->\r\n",
       "<g id=\"edge1\" class=\"edge\"><title>0&#45;&gt;ER_00061</title>\r\n",
       "<path fill=\"none\" stroke=\"black\" d=\"M61.1601,-167.411C60.2975,-159.507 60.0481,-149.852 60.4119,-140.935\"/>\r\n",
       "<polygon fill=\"black\" stroke=\"black\" points=\"63.9033,-141.179 61.1206,-130.956 56.9209,-140.683 63.9033,-141.179\"/>\r\n",
       "</g>\r\n",
       "<!-- ER_00061&#45;&gt;0 -->\r\n",
       "<g id=\"edge6\" class=\"edge\"><title>ER_00061&#45;&gt;0</title>\r\n",
       "<path fill=\"none\" stroke=\"black\" d=\"M72.8794,-130.956C73.7139,-138.827 73.9485,-148.374 73.5831,-157.187\"/>\r\n",
       "<polygon fill=\"black\" stroke=\"black\" points=\"70.0742,-157.184 72.8399,-167.411 77.0558,-157.691 70.0742,-157.184\"/>\r\n",
       "</g>\r\n",
       "<!-- ER_00225 -->\r\n",
       "<g id=\"node3\" class=\"node\"><title>ER_00225</title>\r\n",
       "<ellipse fill=\"none\" stroke=\"black\" cx=\"67\" cy=\"-41\" rx=\"49.2915\" ry=\"18\"/>\r\n",
       "<text text-anchor=\"middle\" x=\"67\" y=\"-37.3\" font-family=\"Times New Roman,serif\" font-size=\"14.00\">ER_00225</text>\r\n",
       "</g>\r\n",
       "<!-- ER_00061&#45;&gt;ER_00225 -->\r\n",
       "<g id=\"edge2\" class=\"edge\"><title>ER_00061&#45;&gt;ER_00225</title>\r\n",
       "<path fill=\"none\" stroke=\"black\" d=\"M61.1218,-95.055C60.3037,-87.3456 60.0614,-78.0269 60.3949,-69.3642\"/>\r\n",
       "<polygon fill=\"black\" stroke=\"black\" points=\"63.8943,-69.4915 61.0872,-59.2753 56.9107,-69.0122 63.8943,-69.4915\"/>\r\n",
       "</g>\r\n",
       "<!-- ER_00225&#45;&gt;ER_00061 -->\r\n",
       "<g id=\"edge5\" class=\"edge\"><title>ER_00225&#45;&gt;ER_00061</title>\r\n",
       "<path fill=\"none\" stroke=\"black\" d=\"M72.9128,-59.2753C73.7145,-67.03 73.9404,-76.3618 73.5906,-85.0054\"/>\r\n",
       "<polygon fill=\"black\" stroke=\"black\" points=\"70.0941,-84.8325 72.8782,-95.055 77.0766,-85.3275 70.0941,-84.8325\"/>\r\n",
       "</g>\r\n",
       "<!-- ER_00225&#45;&gt;ER_00225 -->\r\n",
       "<g id=\"edge3\" class=\"edge\"><title>ER_00225&#45;&gt;ER_00225</title>\r\n",
       "<path fill=\"none\" stroke=\"black\" d=\"M112.99,-47.6907C125.17,-47.3083 134.396,-45.0781 134.396,-41 134.396,-38.1963 130.035,-36.266 123.352,-35.2091\"/>\r\n",
       "<polygon fill=\"black\" stroke=\"black\" points=\"123.256,-31.6877 112.99,-34.3093 122.65,-38.6614 123.256,-31.6877\"/>\r\n",
       "</g>\r\n",
       "<!-- ER_00225&#45;&gt;ER_00225 -->\r\n",
       "<g id=\"edge4\" class=\"edge\"><title>ER_00225&#45;&gt;ER_00225</title>\r\n",
       "<path fill=\"none\" stroke=\"black\" d=\"M103.421,-53.2467C128.169,-56.8244 152.396,-52.7422 152.396,-41 152.396,-30.8632 134.34,-26.435 113.482,-27.7154\"/>\r\n",
       "<polygon fill=\"black\" stroke=\"black\" points=\"113.009,-24.2455 103.421,-28.7533 113.728,-31.2085 113.009,-24.2455\"/>\r\n",
       "</g>\r\n",
       "</g>\r\n",
       "</svg>\r\n"
      ],
      "text/plain": [
       "<graphviz.dot.Digraph at 0x29f8748>"
      ]
     },
     "execution_count": 15,
     "metadata": {},
     "output_type": "execute_result"
    }
   ],
   "source": [
    "g3"
   ]
  },
  {
   "cell_type": "code",
   "execution_count": 16,
   "metadata": {},
   "outputs": [
    {
     "data": {
      "text/plain": [
       "0           10522\n",
       "ER_00239     2979\n",
       "ER_00225     2530\n",
       "ER_00149     2352\n",
       "ER_00251     2198\n",
       "ER_00061     2188\n",
       "ER_00212     2047\n",
       "ER_00060     1890\n",
       "Name: to_resource, dtype: int64"
      ]
     },
     "execution_count": 16,
     "metadata": {},
     "output_type": "execute_result"
    }
   ],
   "source": [
    "closed[\"to_resource\"].value_counts().head(8)"
   ]
  },
  {
   "cell_type": "markdown",
   "metadata": {},
   "source": [
    "We can see that Resources are going forward and back or stay in the same state. Let's see what happens with the resource phase if the process phase stays on same stage"
   ]
  },
  {
   "cell_type": "code",
   "execution_count": 17,
   "metadata": {},
   "outputs": [],
   "source": [
    "process_hold = closed[closed[\"from_phase\"]==closed[\"to_phase\"]]\n",
    "resource_change = process_hold[process_hold[\"resource_phase\"].apply(lambda x: x[0] != x[1])]\n",
    "resource_hold = process_hold[process_hold[\"resource_phase\"].apply(lambda x: x[0] == x[1])]"
   ]
  },
  {
   "cell_type": "code",
   "execution_count": 18,
   "metadata": {},
   "outputs": [
    {
     "name": "stdout",
     "output_type": "stream",
     "text": [
      "In 171 cases the resource changes, if the process holds.\n",
      "In 0 cases the resource holds, if the process holds.\n"
     ]
    }
   ],
   "source": [
    "print(\"In %i cases the resource changes, if the process holds.\" %len(resource_change))\n",
    "print(\"In %i cases the resource holds, if the process holds.\" %len(resource_hold))"
   ]
  },
  {
   "cell_type": "markdown",
   "metadata": {},
   "source": [
    "This is a useful information. If the process flow stops, the resource is changed. If the resource is a person this could have multiple reasons. The things we should to get know more about are:\n",
    "\n",
    "1. What is the correlation between the process flow and the resource flow, which resource corresponds to which process phase\n",
    "2. Which resource needs most time\n",
    "3. Why is a resource changing"
   ]
  },
  {
   "cell_type": "markdown",
   "metadata": {},
   "source": [
    "First we calculate times and wrangle the data"
   ]
  },
  {
   "cell_type": "code",
   "execution_count": 19,
   "metadata": {},
   "outputs": [],
   "source": [
    "relevant_columns = [\"work_item\", \"process_phase\", \"resource_phase\", \"timestamp\"]\n",
    "times = time_for_phase(data, relevant_columns=[*relevant_columns, \"to_resource\"], process=True, end_date=None)"
   ]
  },
  {
   "cell_type": "code",
   "execution_count": 20,
   "metadata": {},
   "outputs": [],
   "source": [
    "duration_type = [\"duration_in_days\", \"duration_in_hours\", \"duration_in_minutes\"]"
   ]
  },
  {
   "cell_type": "code",
   "execution_count": 21,
   "metadata": {},
   "outputs": [],
   "source": [
    "new_names = {\n",
    "            \"to_phase\": \"current_phase\",\n",
    "            \"process_phase_x\": \"from_process\",\n",
    "            \"process_phase_y\": \"to_process\",\n",
    "            \"to_resource_x\": \"current_resource\",\n",
    "            \"resource_phase_x\": \"from_resource\",\n",
    "            \"resource_phase_y\": \"to_resource\"\n",
    "            }\n",
    "times.rename(columns=new_names, inplace=True)\n",
    "relevant_cols = [\"work_item\", \"process_index\", *list(new_names.values()), \"duration_in_days\"]\n",
    "times= times[relevant_cols]"
   ]
  },
  {
   "cell_type": "code",
   "execution_count": 22,
   "metadata": {},
   "outputs": [
    {
     "data": {
      "text/html": [
       "<div>\n",
       "<style scoped>\n",
       "    .dataframe tbody tr th:only-of-type {\n",
       "        vertical-align: middle;\n",
       "    }\n",
       "\n",
       "    .dataframe tbody tr th {\n",
       "        vertical-align: top;\n",
       "    }\n",
       "\n",
       "    .dataframe thead th {\n",
       "        text-align: right;\n",
       "    }\n",
       "</style>\n",
       "<table border=\"1\" class=\"dataframe\">\n",
       "  <thead>\n",
       "    <tr style=\"text-align: right;\">\n",
       "      <th></th>\n",
       "      <th>work_item</th>\n",
       "      <th>process_index</th>\n",
       "      <th>current_phase</th>\n",
       "      <th>from_process</th>\n",
       "      <th>to_process</th>\n",
       "      <th>current_resource</th>\n",
       "      <th>from_resource</th>\n",
       "      <th>to_resource</th>\n",
       "      <th>duration_in_days</th>\n",
       "    </tr>\n",
       "  </thead>\n",
       "  <tbody>\n",
       "    <tr>\n",
       "      <th>0</th>\n",
       "      <td>WI_000001</td>\n",
       "      <td>1</td>\n",
       "      <td>Analyze</td>\n",
       "      <td>(Start, Analyze)</td>\n",
       "      <td>(Analyze, Design)</td>\n",
       "      <td>ER_00043</td>\n",
       "      <td>(0, ER_00043)</td>\n",
       "      <td>(ER_00043, ER_00149)</td>\n",
       "      <td>2.88</td>\n",
       "    </tr>\n",
       "    <tr>\n",
       "      <th>1</th>\n",
       "      <td>WI_000002</td>\n",
       "      <td>1</td>\n",
       "      <td>Analyze</td>\n",
       "      <td>(Start, Analyze)</td>\n",
       "      <td>(Analyze, Design)</td>\n",
       "      <td>ER_00225</td>\n",
       "      <td>(0, ER_00225)</td>\n",
       "      <td>(ER_00225, ER_00225)</td>\n",
       "      <td>11.78</td>\n",
       "    </tr>\n",
       "    <tr>\n",
       "      <th>2</th>\n",
       "      <td>WI_000003</td>\n",
       "      <td>1</td>\n",
       "      <td>Analyze</td>\n",
       "      <td>(Start, Analyze)</td>\n",
       "      <td>(Analyze, Design)</td>\n",
       "      <td>ER_00225</td>\n",
       "      <td>(0, ER_00225)</td>\n",
       "      <td>(ER_00225, ER_00225)</td>\n",
       "      <td>18.84</td>\n",
       "    </tr>\n",
       "    <tr>\n",
       "      <th>3</th>\n",
       "      <td>WI_000004</td>\n",
       "      <td>1</td>\n",
       "      <td>Analyze</td>\n",
       "      <td>(Start, Analyze)</td>\n",
       "      <td>(Analyze, Design)</td>\n",
       "      <td>ER_00225</td>\n",
       "      <td>(0, ER_00225)</td>\n",
       "      <td>(ER_00225, ER_00239)</td>\n",
       "      <td>11.80</td>\n",
       "    </tr>\n",
       "    <tr>\n",
       "      <th>4</th>\n",
       "      <td>WI_000005</td>\n",
       "      <td>1</td>\n",
       "      <td>Analyze</td>\n",
       "      <td>(Start, Analyze)</td>\n",
       "      <td>(Analyze, Design)</td>\n",
       "      <td>ER_00206</td>\n",
       "      <td>(0, ER_00206)</td>\n",
       "      <td>(ER_00206, ER_00075)</td>\n",
       "      <td>25.69</td>\n",
       "    </tr>\n",
       "  </tbody>\n",
       "</table>\n",
       "</div>"
      ],
      "text/plain": [
       "   work_item  process_index current_phase      from_process  \\\n",
       "0  WI_000001              1       Analyze  (Start, Analyze)   \n",
       "1  WI_000002              1       Analyze  (Start, Analyze)   \n",
       "2  WI_000003              1       Analyze  (Start, Analyze)   \n",
       "3  WI_000004              1       Analyze  (Start, Analyze)   \n",
       "4  WI_000005              1       Analyze  (Start, Analyze)   \n",
       "\n",
       "          to_process current_resource  from_resource           to_resource  \\\n",
       "0  (Analyze, Design)         ER_00043  (0, ER_00043)  (ER_00043, ER_00149)   \n",
       "1  (Analyze, Design)         ER_00225  (0, ER_00225)  (ER_00225, ER_00225)   \n",
       "2  (Analyze, Design)         ER_00225  (0, ER_00225)  (ER_00225, ER_00225)   \n",
       "3  (Analyze, Design)         ER_00225  (0, ER_00225)  (ER_00225, ER_00239)   \n",
       "4  (Analyze, Design)         ER_00206  (0, ER_00206)  (ER_00206, ER_00075)   \n",
       "\n",
       "   duration_in_days  \n",
       "0              2.88  \n",
       "1             11.78  \n",
       "2             18.84  \n",
       "3             11.80  \n",
       "4             25.69  "
      ]
     },
     "execution_count": 22,
     "metadata": {},
     "output_type": "execute_result"
    }
   ],
   "source": [
    "times.head()"
   ]
  },
  {
   "cell_type": "code",
   "execution_count": 23,
   "metadata": {},
   "outputs": [],
   "source": [
    "is_open = pd.isnull(times[\"duration_in_days\"])\n",
    "times_open = times[is_open]\n",
    "times_closed = times[~is_open]"
   ]
  },
  {
   "cell_type": "code",
   "execution_count": 24,
   "metadata": {},
   "outputs": [],
   "source": [
    "categories = [\"Analyze\", \"Design\", \"Build\", \"Test\", \"Package\", \"Accept\", \"Deploy\", \"Clarify\"]\n",
    "times_closed.loc[:, \"current_phase\"] = pd.Categorical(times_closed[\"current_phase\"], categories=categories)"
   ]
  },
  {
   "cell_type": "markdown",
   "metadata": {},
   "source": [
    "Now we take a look on the correltation between the current phase and the current resource based on the most frequent 20 resources regarding to the most influencing process phases (Analyze, Design) and take a look at the first question\n",
    "\n",
    "1. What is the correlation between the process flow and the resource flow, which resource corresponds to which process phase"
   ]
  },
  {
   "cell_type": "code",
   "execution_count": 25,
   "metadata": {},
   "outputs": [],
   "source": [
    "cross = pd.crosstab(times_closed[\"current_phase\"], times_closed[\"current_resource\"])\n",
    "cross = cross.reindex(categories).T"
   ]
  },
  {
   "cell_type": "code",
   "execution_count": 26,
   "metadata": {},
   "outputs": [],
   "source": [
    "top20 = cross.nlargest(20, columns=[\"Analyze\", \"Design\"])"
   ]
  },
  {
   "cell_type": "code",
   "execution_count": 27,
   "metadata": {},
   "outputs": [
    {
     "data": {
      "text/plain": [
       "Text(0.5, 1.0, 'Most frequent resource phases regarding to the process phases')"
      ]
     },
     "execution_count": 27,
     "metadata": {},
     "output_type": "execute_result"
    },
    {
     "data": {
      "image/png": "[encoded data removed]",
      "text/plain": [
       "<Figure size 1080x576 with 1 Axes>"
      ]
     },
     "metadata": {
      "needs_background": "light"
     },
     "output_type": "display_data"
    }
   ],
   "source": [
    "top20.T.plot(kind='bar', figsize=(15,8))\n",
    "plt.title(\"Most frequent resource phases regarding to the process phases\")"
   ]
  },
  {
   "cell_type": "markdown",
   "metadata": {},
   "source": [
    "We can see that resources ER_00061 and ER_00206 going along with the phase Analyze and Deploy, while ER_00239 and ER_00225 going along with Design, Build, Test, Package and Accept. Let's look at the time\n",
    "\n",
    "2. Which resource needs most time"
   ]
  },
  {
   "cell_type": "code",
   "execution_count": 28,
   "metadata": {},
   "outputs": [],
   "source": [
    "resource_freq = times_closed.groupby(\"current_resource\").size()\n",
    "resource_sum = pd.DataFrame(times_closed.groupby(\"current_resource\")[duration_type[0]].sum() / resource_freq)\n",
    "resource_sum.rename(columns={0: \"duration_in_days\"}, inplace=True)\n",
    "toptime = resource_sum.nlargest(20, columns=\"duration_in_days\")"
   ]
  },
  {
   "cell_type": "code",
   "execution_count": 29,
   "metadata": {},
   "outputs": [
    {
     "data": {
      "text/plain": [
       "Text(0.5, 0, 'duration_in_days / frequency')"
      ]
     },
     "execution_count": 29,
     "metadata": {},
     "output_type": "execute_result"
    },
    {
     "data": {
      "image/png": "[encoded data removed]",
      "text/plain": [
       "<Figure size 1080x576 with 1 Axes>"
      ]
     },
     "metadata": {
      "needs_background": "light"
     },
     "output_type": "display_data"
    }
   ],
   "source": [
    "toptime.plot(kind='barh',figsize=(15,8), title=\"Current resource regarding to normalized duration\")\n",
    "plt.xlabel(\"duration_in_days / frequency\")"
   ]
  },
  {
   "cell_type": "markdown",
   "metadata": {},
   "source": [
    "Store into json for usage in models"
   ]
  },
  {
   "cell_type": "code",
   "execution_count": 30,
   "metadata": {},
   "outputs": [],
   "source": [
    "# filepath = Path(\"../data/top20_time_resources.json\")\n",
    "# with open(filepath, 'w') as f:\n",
    "#     json.dump(list(toptime.index), f)"
   ]
  },
  {
   "cell_type": "markdown",
   "metadata": {},
   "source": [
    "We can see that the resources ER_00169, ER_00097 and ER_00002 need the most time to get things done. We should compare with the resources from 1."
   ]
  },
  {
   "cell_type": "code",
   "execution_count": 31,
   "metadata": {},
   "outputs": [
    {
     "name": "stdout",
     "output_type": "stream",
     "text": [
      "The following resources have a high impact based on the process phases and the time: \n",
      "set()\n"
     ]
    }
   ],
   "source": [
    "print(\"The following resources have a high impact based on the process phases and the time: \\n{}\".format(set(toptime.index.values) & set(top20.index.values)))"
   ]
  },
  {
   "cell_type": "markdown",
   "metadata": {},
   "source": [
    "Sadly the intersection is 0. But we should check the rank of the resources that are related to the process phases"
   ]
  },
  {
   "cell_type": "code",
   "execution_count": 32,
   "metadata": {},
   "outputs": [],
   "source": [
    "ranks = resource_sum.reset_index().sort_values(by=\"duration_in_days\", ascending=False).reset_index(drop=True)"
   ]
  },
  {
   "cell_type": "code",
   "execution_count": 33,
   "metadata": {},
   "outputs": [
    {
     "name": "stdout",
     "output_type": "stream",
     "text": [
      "The both resources that have highest relation to the phases Analyze and Deploy:\n",
      "The rank of resource of ER_00061 is 73\n",
      "The rank of resource of ER_00206 is 172\n",
      "The both resources that have highest relation to the phases Design, Build, Test, Package and Accept:\n",
      "The rank of resource of ER_00239 is 144\n",
      "The rank of resource of ER_00225 is 123\n",
      "\n",
      "While the highest rank is 273\n"
     ]
    }
   ],
   "source": [
    "print(\"The both resources that have highest relation to the phases Analyze and Deploy:\")\n",
    "print(\"The rank of resource of ER_00061 is %i\"%ranks[ranks[\"current_resource\"]==\"ER_00061\"].index[0])\n",
    "print(\"The rank of resource of ER_00206 is %i\"%ranks[ranks[\"current_resource\"]==\"ER_00206\"].index[0])\n",
    "print(\"The both resources that have highest relation to the phases Design, Build, Test, Package and Accept:\")\n",
    "print(\"The rank of resource of ER_00239 is %i\"%ranks[ranks[\"current_resource\"]==\"ER_00239\"].index[0])\n",
    "print(\"The rank of resource of ER_00225 is %i\"%ranks[ranks[\"current_resource\"]==\"ER_00225\"].index[0])\n",
    "print(\"\\nWhile the highest rank is %i\"%len(ranks))"
   ]
  },
  {
   "cell_type": "markdown",
   "metadata": {},
   "source": [
    "So let's have a look on the third question:\n",
    "\n",
    "3. Why is a resource changing"
   ]
  },
  {
   "cell_type": "markdown",
   "metadata": {},
   "source": [
    "With question 1 we already have a possible answer for that:\n",
    "\n",
    "Resources could change regarding the process phases. So resources could represent employees in the business process with specific roles like an Analyst, a Developer (Conceptional, Software, Packaging) or an Engineer.\n",
    "\n",
    "With question 2 we have an other aproach:\n",
    "\n",
    "Resources could represent physical or technical things like working environment, files or tools that are involved"
   ]
  },
  {
   "cell_type": "markdown",
   "metadata": {},
   "source": [
    "So we can summarize the following:\n",
    "1. When the ticket comes in it doesn't have a resource\n",
    "2. Resources are undirected and can 'point on themselves' (like ER_000 -> ER_000)\n",
    "3. If the process phase doesn't change the resource phase changes and this takes time too\n",
    "4. There are resources that are correlated with process phases and the duration time"
   ]
  },
  {
   "cell_type": "code",
   "execution_count": null,
   "metadata": {},
   "outputs": [],
   "source": []
  }
 ],
 "metadata": {
  "kernelspec": {
   "display_name": "Python 3",
   "language": "python",
   "name": "python3"
  },
  "language_info": {
   "codemirror_mode": {
    "name": "ipython",
    "version": 3
   },
   "file_extension": ".py",
   "mimetype": "text/x-python",
   "name": "python",
   "nbconvert_exporter": "python",
   "pygments_lexer": "ipython3",
   "version": "3.7.1"
  }
 },
 "nbformat": 4,
 "nbformat_minor": 2
}
